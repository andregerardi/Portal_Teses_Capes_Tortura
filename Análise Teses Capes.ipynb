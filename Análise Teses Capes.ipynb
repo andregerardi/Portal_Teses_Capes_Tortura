{
 "cells": [
  {
   "cell_type": "markdown",
   "metadata": {},
   "source": [
    "# Bilbliotecas"
   ]
  },
  {
   "cell_type": "code",
   "execution_count": 2,
   "metadata": {},
   "outputs": [],
   "source": [
    "import pandas as pd\n",
    "import matplotlib.pyplot\n",
    "import numpy"
   ]
  },
  {
   "cell_type": "markdown",
   "metadata": {},
   "source": [
    "# Importa o arquivo csv"
   ]
  },
  {
   "cell_type": "code",
   "execution_count": 3,
   "metadata": {},
   "outputs": [],
   "source": [
    "#Com o Pandas é possível importar qualquer tipo de arquivo CSV, incluse on-line. A função sep informa o formato dos dados, já o header=0 atribui a primeira como o nome das colunas.\n",
    "arquivo = 'TesesDissertacoes_tortura.csv'\n",
    "suc = pd.read_csv(arquivo, sep=',', header=0)"
   ]
  },
  {
   "cell_type": "markdown",
   "metadata": {},
   "source": [
    "# Salvar o csv"
   ]
  },
  {
   "cell_type": "code",
   "execution_count": null,
   "metadata": {},
   "outputs": [],
   "source": [
    "#Salvar com separação ';' em csv e utf-8\n",
    "suc.to_csv('ScrapeSucupira_resumosX.csv', sep=';', encoding='utf-8')"
   ]
  },
  {
   "cell_type": "markdown",
   "metadata": {},
   "source": [
    "# Verificando características do banco"
   ]
  },
  {
   "cell_type": "code",
   "execution_count": 7,
   "metadata": {},
   "outputs": [
    {
     "data": {
      "text/html": [
       "<div>\n",
       "<style scoped>\n",
       "    .dataframe tbody tr th:only-of-type {\n",
       "        vertical-align: middle;\n",
       "    }\n",
       "\n",
       "    .dataframe tbody tr th {\n",
       "        vertical-align: top;\n",
       "    }\n",
       "\n",
       "    .dataframe thead th {\n",
       "        text-align: right;\n",
       "    }\n",
       "</style>\n",
       "<table border=\"1\" class=\"dataframe\">\n",
       "  <thead>\n",
       "    <tr style=\"text-align: right;\">\n",
       "      <th></th>\n",
       "      <th>Unnamed: 0</th>\n",
       "      <th>id</th>\n",
       "      <th>instituicao</th>\n",
       "      <th>Programa</th>\n",
       "      <th>mun</th>\n",
       "      <th>titulo</th>\n",
       "      <th>autor</th>\n",
       "      <th>Defesa</th>\n",
       "      <th>biblioteca</th>\n",
       "      <th>grauAcademico</th>\n",
       "      <th>link</th>\n",
       "    </tr>\n",
       "  </thead>\n",
       "  <tbody>\n",
       "    <tr>\n",
       "      <th>0</th>\n",
       "      <td>0</td>\n",
       "      <td>20058032006012012P0</td>\n",
       "      <td>UNIVERSIDADE FEDERAL DE UBERLÂNDIA</td>\n",
       "      <td>HISTÓRIA</td>\n",
       "      <td>UBERLÂNDIA</td>\n",
       "      <td>Práticas de tortura narradas em Torquemada (19...</td>\n",
       "      <td>Sandra Alves Fiuza</td>\n",
       "      <td>2005-10-01</td>\n",
       "      <td>UFU - Santa Mônica</td>\n",
       "      <td>Mestrado</td>\n",
       "      <td>NaN</td>\n",
       "    </tr>\n",
       "    <tr>\n",
       "      <th>1</th>\n",
       "      <td>1</td>\n",
       "      <td>20096033005010010P8</td>\n",
       "      <td>PONTIFÍCIA UNIVERSIDADE CATÓLICA DE SÃO PAULO</td>\n",
       "      <td>HISTÓRIA</td>\n",
       "      <td>SÃO PAULO</td>\n",
       "      <td>A tortura em questão: a disputa de memórias en...</td>\n",
       "      <td>ELISABETE FERNANDES BASÍLIO TAMAS</td>\n",
       "      <td>2009-12-01</td>\n",
       "      <td>PUC SP</td>\n",
       "      <td>Doutorado</td>\n",
       "      <td>NaN</td>\n",
       "    </tr>\n",
       "    <tr>\n",
       "      <th>2</th>\n",
       "      <td>2</td>\n",
       "      <td>20112152001016002P0</td>\n",
       "      <td>UNIVERSIDADE FEDERAL DE GOIÁS</td>\n",
       "      <td>HISTÓRIA</td>\n",
       "      <td>GOIÂNIA</td>\n",
       "      <td>OS SONS DO SILÊNCIO: O LOUCO E A LOUCURA EM GOIÁS</td>\n",
       "      <td>Éder Mendes de Paula</td>\n",
       "      <td>2011-04-01</td>\n",
       "      <td>Biblioteca Central da UFG</td>\n",
       "      <td>Mestrado</td>\n",
       "      <td>NaN</td>\n",
       "    </tr>\n",
       "  </tbody>\n",
       "</table>\n",
       "</div>"
      ],
      "text/plain": [
       "   Unnamed: 0                   id  \\\n",
       "0           0  20058032006012012P0   \n",
       "1           1  20096033005010010P8   \n",
       "2           2  20112152001016002P0   \n",
       "\n",
       "                                     instituicao  Programa         mun  \\\n",
       "0             UNIVERSIDADE FEDERAL DE UBERLÂNDIA  HISTÓRIA  UBERLÂNDIA   \n",
       "1  PONTIFÍCIA UNIVERSIDADE CATÓLICA DE SÃO PAULO  HISTÓRIA   SÃO PAULO   \n",
       "2                  UNIVERSIDADE FEDERAL DE GOIÁS  HISTÓRIA     GOIÂNIA   \n",
       "\n",
       "                                              titulo  \\\n",
       "0  Práticas de tortura narradas em Torquemada (19...   \n",
       "1  A tortura em questão: a disputa de memórias en...   \n",
       "2  OS SONS DO SILÊNCIO: O LOUCO E A LOUCURA EM GOIÁS   \n",
       "\n",
       "                               autor     Defesa                 biblioteca  \\\n",
       "0                 Sandra Alves Fiuza 2005-10-01         UFU - Santa Mônica   \n",
       "1  ELISABETE FERNANDES BASÍLIO TAMAS 2009-12-01                     PUC SP   \n",
       "2               Éder Mendes de Paula 2011-04-01  Biblioteca Central da UFG   \n",
       "\n",
       "  grauAcademico link  \n",
       "0      Mestrado  NaN  \n",
       "1     Doutorado  NaN  \n",
       "2      Mestrado  NaN  "
      ]
     },
     "execution_count": 7,
     "metadata": {},
     "output_type": "execute_result"
    }
   ],
   "source": [
    "suc.head(3)"
   ]
  },
  {
   "cell_type": "code",
   "execution_count": 5,
   "metadata": {},
   "outputs": [],
   "source": [
    "#Declarar a coluna referente a data da \"defesa\" como date and time. \n",
    "#A intenção é posteriormene plotar um gráfico para verificar o comportamento das publicações no tempo.\n",
    "suc['Defesa'] = pd.to_datetime(suc['Defesa'])"
   ]
  },
  {
   "cell_type": "markdown",
   "metadata": {},
   "source": [
    "# Analise os dados"
   ]
  },
  {
   "cell_type": "markdown",
   "metadata": {},
   "source": [
    "Número de trabalhos sobre \"tortura\" no portal da Capes"
   ]
  },
  {
   "cell_type": "code",
   "execution_count": 9,
   "metadata": {},
   "outputs": [
    {
     "data": {
      "text/plain": [
       "2359"
      ]
     },
     "execution_count": 9,
     "metadata": {},
     "output_type": "execute_result"
    }
   ],
   "source": [
    "len(suc.grauAcademico)"
   ]
  },
  {
   "cell_type": "markdown",
   "metadata": {},
   "source": [
    "Entre os trabalhos coletados, como é a distribuição por ano da defesa?"
   ]
  },
  {
   "cell_type": "code",
   "execution_count": 6,
   "metadata": {},
   "outputs": [
    {
     "data": {
      "text/plain": [
       "2016    239\n",
       "2018    234\n",
       "2017    208\n",
       "2015    203\n",
       "2014    164\n",
       "2013    148\n",
       "2011    125\n",
       "2012    124\n",
       "2009    109\n",
       "2010    106\n",
       "2007    105\n",
       "2008    102\n",
       "2006     83\n",
       "2004     63\n",
       "2005     63\n",
       "2002     56\n",
       "2003     49\n",
       "2001     42\n",
       "2000     33\n",
       "1999     21\n",
       "1998     20\n",
       "1997     17\n",
       "1996     13\n",
       "1993      8\n",
       "1995      8\n",
       "1994      5\n",
       "1991      4\n",
       "1992      3\n",
       "1987      2\n",
       "1989      1\n",
       "1986      1\n",
       "Name: Defesa, dtype: int64"
      ]
     },
     "execution_count": 6,
     "metadata": {},
     "output_type": "execute_result"
    }
   ],
   "source": [
    "defesa = suc.Defesa.dt.year.value_counts()\n",
    "defesa"
   ]
  },
  {
   "cell_type": "markdown",
   "metadata": {},
   "source": [
    "Quantos trabalhos sobre tortura foram escritos por tipo?"
   ]
  },
  {
   "cell_type": "code",
   "execution_count": 11,
   "metadata": {},
   "outputs": [
    {
     "data": {
      "text/plain": [
       "Mestrado                 1782\n",
       "Doutorado                 530\n",
       "Mestrado Profissional      38\n",
       "Profissionalizante          9\n",
       "Name: grauAcademico, dtype: int64"
      ]
     },
     "execution_count": 11,
     "metadata": {},
     "output_type": "execute_result"
    }
   ],
   "source": [
    "suc.grauAcademico.value_counts()"
   ]
  },
  {
   "cell_type": "markdown",
   "metadata": {},
   "source": [
    "Data da defesa e tipo de trabalho"
   ]
  },
  {
   "cell_type": "code",
   "execution_count": 8,
   "metadata": {},
   "outputs": [
    {
     "data": {
      "text/plain": [
       "Defesa  grauAcademico        \n",
       "1986    Doutorado                  1\n",
       "1987    Doutorado                  1\n",
       "        Mestrado                   1\n",
       "1989    Mestrado                   1\n",
       "1991    Mestrado                   4\n",
       "1992    Mestrado                   3\n",
       "1993    Mestrado                   5\n",
       "        Doutorado                  3\n",
       "1994    Mestrado                   5\n",
       "1995    Mestrado                   5\n",
       "        Doutorado                  3\n",
       "1996    Mestrado                  10\n",
       "        Doutorado                  3\n",
       "1997    Mestrado                  12\n",
       "        Doutorado                  5\n",
       "1998    Mestrado                  13\n",
       "        Doutorado                  7\n",
       "1999    Mestrado                  18\n",
       "        Doutorado                  3\n",
       "2000    Mestrado                  25\n",
       "        Doutorado                  8\n",
       "2001    Mestrado                  36\n",
       "        Doutorado                  6\n",
       "2002    Mestrado                  48\n",
       "        Doutorado                  8\n",
       "2003    Mestrado                  39\n",
       "        Doutorado                 10\n",
       "2004    Mestrado                  47\n",
       "        Doutorado                 13\n",
       "        Profissionalizante         3\n",
       "                                ... \n",
       "2008    Profissionalizante         1\n",
       "2009    Mestrado                  85\n",
       "        Doutorado                 24\n",
       "2010    Mestrado                  78\n",
       "        Doutorado                 26\n",
       "        Profissionalizante         2\n",
       "2011    Mestrado                  92\n",
       "        Doutorado                 32\n",
       "        Profissionalizante         1\n",
       "2012    Mestrado                  97\n",
       "        Doutorado                 26\n",
       "        Profissionalizante         1\n",
       "2013    Mestrado                 117\n",
       "        Doutorado                 30\n",
       "        Mestrado Profissional      1\n",
       "2014    Mestrado                 123\n",
       "        Doutorado                 31\n",
       "        Mestrado Profissional     10\n",
       "2015    Mestrado                 158\n",
       "        Doutorado                 40\n",
       "        Mestrado Profissional      5\n",
       "2016    Mestrado                 175\n",
       "        Doutorado                 56\n",
       "        Mestrado Profissional      8\n",
       "2017    Mestrado                 157\n",
       "        Doutorado                 47\n",
       "        Mestrado Profissional      4\n",
       "2018    Mestrado                 148\n",
       "        Doutorado                 76\n",
       "        Mestrado Profissional     10\n",
       "Name: grauAcademico, Length: 69, dtype: int64"
      ]
     },
     "execution_count": 8,
     "metadata": {},
     "output_type": "execute_result"
    }
   ],
   "source": [
    "suc.groupby(suc.Defesa.dt.year).grauAcademico.value_counts()"
   ]
  },
  {
   "cell_type": "markdown",
   "metadata": {},
   "source": [
    "Timeseries sobre o total de trabalhos sobre tortura no tempo."
   ]
  },
  {
   "cell_type": "code",
   "execution_count": 50,
   "metadata": {},
   "outputs": [
    {
     "data": {
      "text/plain": [
       "Text(0.5, 0, 'Ano')"
      ]
     },
     "execution_count": 50,
     "metadata": {},
     "output_type": "execute_result"
    },
    {
     "data": {
      "image/png": "[encoded data removed]",
      "text/plain": [
       "<Figure size 720x360 with 1 Axes>"
      ]
     },
     "metadata": {
      "needs_background": "light"
     },
     "output_type": "display_data"
    }
   ],
   "source": [
    "suc.Defesa.dt.year.value_counts().sort_index().plot(title =\"Trabalhos sobre 'tortura' no portal da Capes\", figsize=(10, 5), legend=True, fontsize=12).set_xlabel(\"Ano\", fontsize=12)"
   ]
  },
  {
   "cell_type": "markdown",
   "metadata": {},
   "source": [
    "Barras sobre o total de trabalhos sobre tortura no tempo"
   ]
  },
  {
   "cell_type": "code",
   "execution_count": 98,
   "metadata": {},
   "outputs": [
    {
     "data": {
      "image/png": "[encoded data removed]",
      "text/plain": [
       "<Figure size 720x360 with 1 Axes>"
      ]
     },
     "metadata": {
      "needs_background": "light"
     },
     "output_type": "display_data"
    }
   ],
   "source": [
    "ax = suc.Defesa.dt.year.value_counts().sort_index().plot.bar(title =\"Trabalhos sobre 'tortura' no portal da Capes\", figsize=(10, 5), legend=True,fontsize=12).set_xlabel(\"Ano\", fontsize=12)\n",
    "fig = ax.get_figure()\n",
    "fig.savefig('trabalhos.pdf')"
   ]
  },
  {
   "cell_type": "markdown",
   "metadata": {},
   "source": [
    "Barras invertidas sobre os tipos de trabalhos sobre tortura"
   ]
  },
  {
   "cell_type": "code",
   "execution_count": 102,
   "metadata": {},
   "outputs": [
    {
     "data": {
      "image/png": "[encoded data removed]",
      "text/plain": [
       "<Figure size 504x288 with 1 Axes>"
      ]
     },
     "metadata": {
      "needs_background": "light"
     },
     "output_type": "display_data"
    }
   ],
   "source": [
    "x = suc.grauAcademico.value_counts().sort_values().plot.barh(title =\"Tipos de trabalhos sobre 'tortura' no portal da Capes\", figsize=(7, 4), legend=True, fontsize=12).set_xlabel(\"Count\", fontsize=12)\n",
    "x.get_figure().savefig('area.pdf', format='pdf')"
   ]
  },
  {
   "cell_type": "code",
   "execution_count": null,
   "metadata": {},
   "outputs": [],
   "source": [
    "Fim!"
   ]
  }
 ],
 "metadata": {
  "kernelspec": {
   "display_name": "Python 3",
   "language": "python",
   "name": "python3"
  },
  "language_info": {
   "codemirror_mode": {
    "name": "ipython",
    "version": 3
   },
   "file_extension": ".py",
   "mimetype": "text/x-python",
   "name": "python",
   "nbconvert_exporter": "python",
   "pygments_lexer": "ipython3",
   "version": "3.7.3"
  }
 },
 "nbformat": 4,
 "nbformat_minor": 2
}
